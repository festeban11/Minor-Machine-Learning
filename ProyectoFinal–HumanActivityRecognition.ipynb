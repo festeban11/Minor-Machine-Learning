{
  "nbformat": 4,
  "nbformat_minor": 0,
  "metadata": {
    "colab": {
      "provenance": [],
      "mount_file_id": "1fHXAaiV9LQ0OwqqGAh-hAUjC2hsyvsjJ",
      "authorship_tag": "ABX9TyPxO7IUH+pVTkJw//9eLhMN",
      "include_colab_link": true
    },
    "kernelspec": {
      "name": "python3",
      "display_name": "Python 3"
    },
    "language_info": {
      "name": "python"
    }
  },
  "cells": [
    {
      "cell_type": "markdown",
      "metadata": {
        "id": "view-in-github",
        "colab_type": "text"
      },
      "source": [
        "<a href=\"https://colab.research.google.com/github/festeban11/Minor-Machine-Learning/blob/main/ProyectoFinal%E2%80%93HumanActivityRecognition.ipynb\" target=\"_parent\"><img src=\"https://colab.research.google.com/assets/colab-badge.svg\" alt=\"Open In Colab\"/></a>"
      ]
    },
    {
      "cell_type": "markdown",
      "source": [
        "# Proyecto Final – Human Activity Recognition"
      ],
      "metadata": {
        "id": "bWB8RYaWVlzM"
      }
    },
    {
      "cell_type": "markdown",
      "source": [
        "**Nombre:** Fernando Ibacache Carrión"
      ],
      "metadata": {
        "id": "s96uiL-sXcFg"
      }
    },
    {
      "cell_type": "markdown",
      "source": [
        "**1. Problema:** Clasificar actividades humanas a partir de datos \n",
        "provenientes de sensores.\n",
        "\n",
        "**2. Hipótesis:** Es posible reconocer la actividad humana a partir de sensores con métricas de rendimiento superior de 95%.\n",
        "\n",
        "**3. Solución:** Se propone una investigación e implementación de tres modelos de clasificación; Support Vector Machine (SVM), Random Forest y Extreme Gradient Boosting (XGBoost). Todos los modelos usarán las mismas validaciones, en problemas de clasificación las métricas de rendimiento más utilizadas son: Accuracy (ACC), Precision (P), Recall (R), F1 score(F1) y Area Under Crurve (AUC)."
      ],
      "metadata": {
        "id": "t-Se-ZXbWvwY"
      }
    },
    {
      "cell_type": "markdown",
      "source": [
        "### Semana 14/11: Paso Obtain"
      ],
      "metadata": {
        "id": "T1s9HJs4Vj2t"
      }
    },
    {
      "cell_type": "code",
      "source": [
        "import numpy as np\n",
        "import pandas as pd"
      ],
      "metadata": {
        "id": "QfYmOSTdOyxK"
      },
      "execution_count": null,
      "outputs": []
    },
    {
      "cell_type": "code",
      "source": [
        "columns = ['user','activity','timestamp', 'x-accel', 'y-accel', 'z-accel']\n",
        "df = pd.read_csv('drive/MyDrive/WISDM_at_v2.0_raw.txt', header = None, names = columns, low_memory=False)\n",
        "df.head()"
      ],
      "metadata": {
        "colab": {
          "base_uri": "https://localhost:8080/",
          "height": 206
        },
        "id": "NgzH-j4TPe14",
        "outputId": "923d8d01-6d59-4a61-b0f3-8d0f988a894d"
      },
      "execution_count": null,
      "outputs": [
        {
          "output_type": "execute_result",
          "data": {
            "text/plain": [
              "   user activity      timestamp   x-accel   y-accel       z-accel\n",
              "0  1679  Walking  1370520469556  0.294132 -0.635605  -0.22693644;\n",
              "1  1679  Walking  1370520469606 -0.499688 -0.604451  -0.22602014;\n",
              "2  1679  Walking  1370520469656 -2.178345  0.713491   0.37201694;\n",
              "3  1679  Walking  1370520469706 -2.797763  1.354899  -0.27763826;\n",
              "4  1679  Walking  1370520469756 -2.167961 -1.327716   -0.5549711;"
            ],
            "text/html": [
              "\n",
              "  <div id=\"df-dc9c395f-06bf-4129-8526-3e7d84cfc3e2\">\n",
              "    <div class=\"colab-df-container\">\n",
              "      <div>\n",
              "<style scoped>\n",
              "    .dataframe tbody tr th:only-of-type {\n",
              "        vertical-align: middle;\n",
              "    }\n",
              "\n",
              "    .dataframe tbody tr th {\n",
              "        vertical-align: top;\n",
              "    }\n",
              "\n",
              "    .dataframe thead th {\n",
              "        text-align: right;\n",
              "    }\n",
              "</style>\n",
              "<table border=\"1\" class=\"dataframe\">\n",
              "  <thead>\n",
              "    <tr style=\"text-align: right;\">\n",
              "      <th></th>\n",
              "      <th>user</th>\n",
              "      <th>activity</th>\n",
              "      <th>timestamp</th>\n",
              "      <th>x-accel</th>\n",
              "      <th>y-accel</th>\n",
              "      <th>z-accel</th>\n",
              "    </tr>\n",
              "  </thead>\n",
              "  <tbody>\n",
              "    <tr>\n",
              "      <th>0</th>\n",
              "      <td>1679</td>\n",
              "      <td>Walking</td>\n",
              "      <td>1370520469556</td>\n",
              "      <td>0.294132</td>\n",
              "      <td>-0.635605</td>\n",
              "      <td>-0.22693644;</td>\n",
              "    </tr>\n",
              "    <tr>\n",
              "      <th>1</th>\n",
              "      <td>1679</td>\n",
              "      <td>Walking</td>\n",
              "      <td>1370520469606</td>\n",
              "      <td>-0.499688</td>\n",
              "      <td>-0.604451</td>\n",
              "      <td>-0.22602014;</td>\n",
              "    </tr>\n",
              "    <tr>\n",
              "      <th>2</th>\n",
              "      <td>1679</td>\n",
              "      <td>Walking</td>\n",
              "      <td>1370520469656</td>\n",
              "      <td>-2.178345</td>\n",
              "      <td>0.713491</td>\n",
              "      <td>0.37201694;</td>\n",
              "    </tr>\n",
              "    <tr>\n",
              "      <th>3</th>\n",
              "      <td>1679</td>\n",
              "      <td>Walking</td>\n",
              "      <td>1370520469706</td>\n",
              "      <td>-2.797763</td>\n",
              "      <td>1.354899</td>\n",
              "      <td>-0.27763826;</td>\n",
              "    </tr>\n",
              "    <tr>\n",
              "      <th>4</th>\n",
              "      <td>1679</td>\n",
              "      <td>Walking</td>\n",
              "      <td>1370520469756</td>\n",
              "      <td>-2.167961</td>\n",
              "      <td>-1.327716</td>\n",
              "      <td>-0.5549711;</td>\n",
              "    </tr>\n",
              "  </tbody>\n",
              "</table>\n",
              "</div>\n",
              "      <button class=\"colab-df-convert\" onclick=\"convertToInteractive('df-dc9c395f-06bf-4129-8526-3e7d84cfc3e2')\"\n",
              "              title=\"Convert this dataframe to an interactive table.\"\n",
              "              style=\"display:none;\">\n",
              "        \n",
              "  <svg xmlns=\"http://www.w3.org/2000/svg\" height=\"24px\"viewBox=\"0 0 24 24\"\n",
              "       width=\"24px\">\n",
              "    <path d=\"M0 0h24v24H0V0z\" fill=\"none\"/>\n",
              "    <path d=\"M18.56 5.44l.94 2.06.94-2.06 2.06-.94-2.06-.94-.94-2.06-.94 2.06-2.06.94zm-11 1L8.5 8.5l.94-2.06 2.06-.94-2.06-.94L8.5 2.5l-.94 2.06-2.06.94zm10 10l.94 2.06.94-2.06 2.06-.94-2.06-.94-.94-2.06-.94 2.06-2.06.94z\"/><path d=\"M17.41 7.96l-1.37-1.37c-.4-.4-.92-.59-1.43-.59-.52 0-1.04.2-1.43.59L10.3 9.45l-7.72 7.72c-.78.78-.78 2.05 0 2.83L4 21.41c.39.39.9.59 1.41.59.51 0 1.02-.2 1.41-.59l7.78-7.78 2.81-2.81c.8-.78.8-2.07 0-2.86zM5.41 20L4 18.59l7.72-7.72 1.47 1.35L5.41 20z\"/>\n",
              "  </svg>\n",
              "      </button>\n",
              "      \n",
              "  <style>\n",
              "    .colab-df-container {\n",
              "      display:flex;\n",
              "      flex-wrap:wrap;\n",
              "      gap: 12px;\n",
              "    }\n",
              "\n",
              "    .colab-df-convert {\n",
              "      background-color: #E8F0FE;\n",
              "      border: none;\n",
              "      border-radius: 50%;\n",
              "      cursor: pointer;\n",
              "      display: none;\n",
              "      fill: #1967D2;\n",
              "      height: 32px;\n",
              "      padding: 0 0 0 0;\n",
              "      width: 32px;\n",
              "    }\n",
              "\n",
              "    .colab-df-convert:hover {\n",
              "      background-color: #E2EBFA;\n",
              "      box-shadow: 0px 1px 2px rgba(60, 64, 67, 0.3), 0px 1px 3px 1px rgba(60, 64, 67, 0.15);\n",
              "      fill: #174EA6;\n",
              "    }\n",
              "\n",
              "    [theme=dark] .colab-df-convert {\n",
              "      background-color: #3B4455;\n",
              "      fill: #D2E3FC;\n",
              "    }\n",
              "\n",
              "    [theme=dark] .colab-df-convert:hover {\n",
              "      background-color: #434B5C;\n",
              "      box-shadow: 0px 1px 3px 1px rgba(0, 0, 0, 0.15);\n",
              "      filter: drop-shadow(0px 1px 2px rgba(0, 0, 0, 0.3));\n",
              "      fill: #FFFFFF;\n",
              "    }\n",
              "  </style>\n",
              "\n",
              "      <script>\n",
              "        const buttonEl =\n",
              "          document.querySelector('#df-dc9c395f-06bf-4129-8526-3e7d84cfc3e2 button.colab-df-convert');\n",
              "        buttonEl.style.display =\n",
              "          google.colab.kernel.accessAllowed ? 'block' : 'none';\n",
              "\n",
              "        async function convertToInteractive(key) {\n",
              "          const element = document.querySelector('#df-dc9c395f-06bf-4129-8526-3e7d84cfc3e2');\n",
              "          const dataTable =\n",
              "            await google.colab.kernel.invokeFunction('convertToInteractive',\n",
              "                                                     [key], {});\n",
              "          if (!dataTable) return;\n",
              "\n",
              "          const docLinkHtml = 'Like what you see? Visit the ' +\n",
              "            '<a target=\"_blank\" href=https://colab.research.google.com/notebooks/data_table.ipynb>data table notebook</a>'\n",
              "            + ' to learn more about interactive tables.';\n",
              "          element.innerHTML = '';\n",
              "          dataTable['output_type'] = 'display_data';\n",
              "          await google.colab.output.renderOutput(dataTable, element);\n",
              "          const docLink = document.createElement('div');\n",
              "          docLink.innerHTML = docLinkHtml;\n",
              "          element.appendChild(docLink);\n",
              "        }\n",
              "      </script>\n",
              "    </div>\n",
              "  </div>\n",
              "  "
            ]
          },
          "metadata": {},
          "execution_count": 8
        }
      ]
    },
    {
      "cell_type": "markdown",
      "source": [
        "*   user: código asignado al usuario\n",
        "*   activity: actividad realizada (Walking, Jogging, Sitting, Standing,Upstairs, Downstairs)\n",
        "* timestamp: marca de tiempo (tiempo en milisegundos a través del tiempo unix)\n",
        "* x-accel: aceleración en la dirección x medida por el acelerómetro del teléfono android en m/(s^2).\n",
        "* y-accel: aceleración en la dirección y medida por el acelerómetro del teléfono android en m/(s^2).\n",
        "* z-accel: aceleración en la dirección z medida por el acelerómetro del teléfono android en m/(s^2).\n",
        "\n"
      ],
      "metadata": {
        "id": "LqC0kQnTc9dc"
      }
    },
    {
      "cell_type": "code",
      "source": [
        "df.shape"
      ],
      "metadata": {
        "colab": {
          "base_uri": "https://localhost:8080/"
        },
        "id": "Wx4g_FSddGDq",
        "outputId": "fd56edf5-b771-4afa-bc1b-12318c62a42f"
      },
      "execution_count": null,
      "outputs": [
        {
          "output_type": "execute_result",
          "data": {
            "text/plain": [
              "(3005411, 6)"
            ]
          },
          "metadata": {},
          "execution_count": 10
        }
      ]
    },
    {
      "cell_type": "code",
      "source": [
        "df.info()"
      ],
      "metadata": {
        "colab": {
          "base_uri": "https://localhost:8080/"
        },
        "id": "GkSNhyvWWSzZ",
        "outputId": "cac2a75b-734b-4b64-eec8-d46348577f5f"
      },
      "execution_count": null,
      "outputs": [
        {
          "output_type": "stream",
          "name": "stdout",
          "text": [
            "<class 'pandas.core.frame.DataFrame'>\n",
            "RangeIndex: 3005411 entries, 0 to 3005410\n",
            "Data columns (total 6 columns):\n",
            " #   Column     Dtype  \n",
            "---  ------     -----  \n",
            " 0   user       int64  \n",
            " 1   activity   object \n",
            " 2   timestamp  object \n",
            " 3   x-accel    float64\n",
            " 4   y-accel    float64\n",
            " 5   z-accel    object \n",
            "dtypes: float64(2), int64(1), object(3)\n",
            "memory usage: 137.6+ MB\n"
          ]
        }
      ]
    }
  ]
}