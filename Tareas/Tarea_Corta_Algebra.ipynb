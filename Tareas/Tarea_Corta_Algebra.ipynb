{
  "nbformat": 4,
  "nbformat_minor": 0,
  "metadata": {
    "colab": {
      "name": "Tarea_Corta_Algebra.ipynb",
      "provenance": [],
      "collapsed_sections": [],
      "authorship_tag": "ABX9TyMzR+YwydWgQDAAfl8Y2F9G",
      "include_colab_link": true
    },
    "kernelspec": {
      "name": "python3",
      "display_name": "Python 3"
    },
    "language_info": {
      "name": "python"
    }
  },
  "cells": [
    {
      "cell_type": "markdown",
      "metadata": {
        "id": "view-in-github",
        "colab_type": "text"
      },
      "source": [
        "<a href=\"https://colab.research.google.com/github/festeban11/Minor-Machine-Learning/blob/main/Tareas/Tarea_Corta_Algebra.ipynb\" target=\"_parent\"><img src=\"https://colab.research.google.com/assets/colab-badge.svg\" alt=\"Open In Colab\"/></a>"
      ]
    },
    {
      "cell_type": "markdown",
      "source": [
        "Considere el siguiente problema:\n",
        "\n",
        "Si 2 boletos de adulto y 1 boleto de niño cuestan \\$ 32, y si 1 boleto de adulto y 3 boletos de niño cuestan \\$ 36, ¿cuál es el precio de cada uno?.\n",
        "\n",
        "Se pide construir un Jupiter notebook que contenga la una descripción en texto de la resolución del sistema de ecuaciones (1 punto) y el código python que realiza el gráfico respectivo (1 punto)."
      ],
      "metadata": {
        "id": "6zEnEdwaiQkm"
      }
    },
    {
      "cell_type": "code",
      "execution_count": 1,
      "metadata": {
        "id": "jpmd178CW005"
      },
      "outputs": [],
      "source": [
        "import numpy as np\n",
        "import matplotlib.pyplot as plt"
      ]
    },
    {
      "cell_type": "markdown",
      "source": [],
      "metadata": {
        "id": "cFSdXvQljBTC"
      }
    },
    {
      "cell_type": "markdown",
      "source": [
        "**Resolución del sistema de ecuaciones**"
      ],
      "metadata": {
        "id": "Vm5KLAVnhujb"
      }
    },
    {
      "cell_type": "markdown",
      "source": [
        "Se toman en cuenta las incógnitas:\n",
        "$$x=boletoAdulto$$\n",
        "$$y=boletoNiño$$\n",
        "\n",
        "**Suposición:** el valor de un boleto de adulto es mayor que el boleto de un niño"
      ],
      "metadata": {
        "id": "pkOVxBzR6_yL"
      }
    },
    {
      "cell_type": "markdown",
      "metadata": {
        "id": "pCoSpqtWSyFd"
      },
      "source": [
        "Ecuaciones del problema:\n",
        "\n",
        "1. $$ 2x+y = 32 $$\n",
        "2. $$ x + 3y = 36 $$\n",
        "\n",
        "Luego, se aplica el Método de **Sustitución**:\n",
        "\n",
        "Despejamos **y** de la ecuación 1:\n",
        "  $$ y = 32 -2x $$\n",
        "\n",
        "Sustituimos **y** de la ecuación 2 por la ecuación 1:\n",
        "  $$ x+ 3(32 -2x)=36$$\n",
        "  $$ x+96-6x=36$$\n",
        "\n",
        "Resolvemos la ecuación para obtener el valor de **x**:\n",
        "  $$ x+96-6x=36$$\n",
        "  $$ 96-36=6x-x$$\n",
        "  $$ 60=5x $$\n",
        "  $$ \\frac{60}{5}=x $$\n",
        "  $$ 12 = x $$\n",
        "\n",
        " Reemplazamos el valor obtnido de **x** en la ecuación 1:\n",
        " $$2*12+y=32$$\n",
        "\n",
        " Resolvemos la ecuación para obtener el valor de **y**:\n",
        " $$24+y=32$$\n",
        " $$y=32-24$$\n",
        " $$y=8$$\n",
        "\n"
      ]
    },
    {
      "cell_type": "markdown",
      "source": [
        " Por lo tanto el valor del boleto de adulto es de \\$ 12\n",
        " y el valor del boleto para niños es de \\$ 8"
      ],
      "metadata": {
        "id": "19nh3f-GiYli"
      }
    },
    {
      "cell_type": "markdown",
      "source": [
        "**Gráfico del sistema de ecuaciones del problema**"
      ],
      "metadata": {
        "id": "3yp_Us9Qhc_H"
      }
    },
    {
      "cell_type": "code",
      "source": [
        "x = np.linspace(-100, 100, 1000) # start, finish, n points"
      ],
      "metadata": {
        "id": "gSbILploAXo_"
      },
      "execution_count": 2,
      "outputs": []
    },
    {
      "cell_type": "code",
      "source": [
        "y1 = 32-2*x\n",
        "y2 = (36-x)/3"
      ],
      "metadata": {
        "id": "IFOSk3Yl_4xK"
      },
      "execution_count": 3,
      "outputs": []
    },
    {
      "cell_type": "code",
      "metadata": {
        "id": "6CfRNs1DWzx5",
        "colab": {
          "base_uri": "https://localhost:8080/",
          "height": 283
        },
        "outputId": "6c1a5fb3-348c-4b53-e558-caef7a49d712"
      },
      "source": [
        "fig, ax = plt.subplots()\n",
        "plt.xlabel('x')\n",
        "plt.ylabel('y')\n",
        "ax.set_xlim([0, 18])\n",
        "ax.set_ylim([-2, 16])\n",
        "ax.plot(x, y1, c='green')\n",
        "ax.plot(x, y2, c='brown')\n",
        "plt.axvline(x=12, color='purple', linestyle='--')\n",
        "_ = plt.axhline(y=8, color='purple', linestyle='--')"
      ],
      "execution_count": 4,
      "outputs": [
        {
          "output_type": "display_data",
          "data": {
            "text/plain": [
              "<Figure size 432x288 with 1 Axes>"
            ],
            "image/png": "[encoded data removed]"
          },
          "metadata": {
            "needs_background": "light"
          }
        }
      ]
    }
  ]
}